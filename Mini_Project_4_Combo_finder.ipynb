{
  "nbformat": 4,
  "nbformat_minor": 0,
  "metadata": {
    "colab": {
      "provenance": [],
      "authorship_tag": "ABX9TyM4QovV1kXStVQ4t3C5DQ26",
      "include_colab_link": true
    },
    "kernelspec": {
      "name": "python3",
      "display_name": "Python 3"
    },
    "language_info": {
      "name": "python"
    }
  },
  "cells": [
    {
      "cell_type": "markdown",
      "metadata": {
        "id": "view-in-github",
        "colab_type": "text"
      },
      "source": [
        "<a href=\"https://colab.research.google.com/github/1stagamvir/Mini-Project-4---Combo-Finder/blob/main/Mini_Project_4_Combo_finder.ipynb\" target=\"_parent\"><img src=\"https://colab.research.google.com/assets/colab-badge.svg\" alt=\"Open In Colab\"/></a>"
      ]
    },
    {
      "cell_type": "markdown",
      "source": [
        "# **ComboFinder**"
      ],
      "metadata": {
        "id": "kHeJpPEgI4uF"
      }
    },
    {
      "cell_type": "markdown",
      "source": [
        "## *Find all the list of products whose sum-of-price is between 290 and 310.*"
      ],
      "metadata": {
        "id": "Ttq7kXO8I_IT"
      }
    },
    {
      "cell_type": "markdown",
      "source": [
        "### 1. Library inclusion"
      ],
      "metadata": {
        "id": "m7oOUduBJZhE"
      }
    },
    {
      "cell_type": "code",
      "source": [
        "import random as r"
      ],
      "metadata": {
        "id": "fyPiYPQYJS7-"
      },
      "execution_count": null,
      "outputs": []
    },
    {
      "cell_type": "markdown",
      "source": [
        "### 2. Parameters"
      ],
      "metadata": {
        "id": "CgTwYJNjJje_"
      }
    },
    {
      "cell_type": "code",
      "source": [
        "ProductList = {'p1':10, 'p2':15, 'p3':20, 'p4':25, 'p5':30, 'p6':35, 'p7':50,\n",
        "               'p8':45, 'p9':30, 'p10':100, 'p11':75, 'p12':65, 'p13':90,\n",
        "               'p14':85}\n",
        "LL          = 290\n",
        "UL          = 310\n",
        "ResultList  = set()\n",
        "Iterations  = 1000"
      ],
      "metadata": {
        "id": "TWnNoeuLJuN6"
      },
      "execution_count": null,
      "outputs": []
    },
    {
      "cell_type": "markdown",
      "source": [
        "### 3. Program"
      ],
      "metadata": {
        "id": "VZ6WXhhZKAr-"
      }
    },
    {
      "cell_type": "code",
      "source": [
        "for i in range(Iterations):\n",
        "    SetSize = r.randint(2, len(ProductList)-1)# Select combo size\n",
        "    ComboList = r.sample(list(ProductList.keys()),SetSize)# Select elements from set\n",
        "    ComboList.sort()\n",
        "    ComboSum = sum([ ProductList[i] for i in ComboList]) # Sum the ProductList\n",
        "    if ComboSum>= LL and ComboSum<= UL:# Check the Sum Between LL and UL\n",
        "      ResultList.add(tuple(ComboList))"
      ],
      "metadata": {
        "id": "JwdZA5byKqnW"
      },
      "execution_count": null,
      "outputs": []
    },
    {
      "cell_type": "markdown",
      "source": [
        "### 4. Print all the sets whose sum is between LL and UL"
      ],
      "metadata": {
        "id": "D0DVQyRrLaxl"
      }
    },
    {
      "cell_type": "code",
      "source": [
        "for r in ResultList:\n",
        "\tprint (r)\n",
        "\n",
        "# Print total sets\n",
        "print (\"\\nTotal Sets: \", len(ResultList), \"\\n\")"
      ],
      "metadata": {
        "id": "6LXpscu2Ljhg"
      },
      "execution_count": null,
      "outputs": []
    },
    {
      "cell_type": "markdown",
      "source": [
        "## Full Program\n"
      ],
      "metadata": {
        "id": "SjVBYqJSLrjq"
      }
    },
    {
      "cell_type": "code",
      "source": [
        "import random as r\n",
        "\n",
        "ProductList = {'p1':10, 'p2':15, 'p3':20, 'p4':25, 'p5':30, 'p6':35, 'p7':50,\n",
        "               'p8':45, 'p9':30, 'p10':100, 'p11':75, 'p12':65, 'p13':90,\n",
        "               'p14':85}\n",
        "LL          = 290\n",
        "UL          = 310\n",
        "ResultList  = set()\n",
        "Iterations  = 1000\n",
        "\n",
        "for i in range(Iterations):\n",
        "    SetSize = r.randint(2, len(ProductList)-1)\n",
        "    ComboList = r.sample(list(ProductList.keys()),SetSize)\n",
        "    ComboList.sort()\n",
        "    ComboSum = sum([ ProductList[i] for i in ComboList])\n",
        "    if ComboSum>= LL and ComboSum<= UL:\n",
        "      ResultList.add(tuple(ComboList))\n",
        "\n",
        "for r in ResultList:\n",
        "\tprint (r)\n",
        "print (\"\\nTotal Sets: \", len(ResultList), \"\\n\")"
      ],
      "metadata": {
        "colab": {
          "base_uri": "https://localhost:8080/"
        },
        "id": "8bbJeHz1LyOy",
        "outputId": "0a5800ce-4acb-4b37-c44d-1372ed952da5"
      },
      "execution_count": 11,
      "outputs": [
        {
          "output_type": "stream",
          "name": "stdout",
          "text": [
            "('p1', 'p10', 'p14', 'p3', 'p7', 'p9')\n",
            "('p10', 'p13', 'p2', 'p3', 'p4', 'p8')\n",
            "('p12', 'p13', 'p14', 'p5', 'p9')\n",
            "('p10', 'p13', 'p2', 'p4', 'p6', 'p8')\n",
            "('p11', 'p13', 'p14', 'p4', 'p6')\n",
            "('p10', 'p11', 'p2', 'p3', 'p7', 'p8')\n",
            "('p11', 'p12', 'p14', 'p2', 'p4', 'p8')\n",
            "('p1', 'p11', 'p13', 'p14', 'p5')\n",
            "('p11', 'p13', 'p4', 'p5', 'p7', 'p9')\n",
            "('p13', 'p2', 'p5', 'p6', 'p7', 'p8', 'p9')\n",
            "('p1', 'p12', 'p14', 'p3', 'p6', 'p7', 'p8')\n",
            "('p11', 'p12', 'p13', 'p2', 'p3', 'p4')\n",
            "('p1', 'p11', 'p2', 'p3', 'p4', 'p5', 'p6', 'p7', 'p8')\n",
            "('p1', 'p10', 'p11', 'p14', 'p4')\n",
            "('p10', 'p11', 'p13', 'p2', 'p5')\n",
            "('p1', 'p12', 'p13', 'p5', 'p7', 'p8')\n",
            "('p1', 'p11', 'p12', 'p2', 'p5', 'p6', 'p8', 'p9')\n",
            "('p1', 'p11', 'p14', 'p2', 'p3', 'p4', 'p5', 'p7')\n",
            "('p1', 'p12', 'p14', 'p4', 'p5', 'p8', 'p9')\n",
            "('p10', 'p12', 'p2', 'p6', 'p7', 'p8')\n",
            "('p12', 'p14', 'p2', 'p3', 'p5', 'p7', 'p9')\n",
            "('p1', 'p11', 'p12', 'p2', 'p4', 'p6', 'p7', 'p9')\n",
            "('p1', 'p12', 'p13', 'p3', 'p5', 'p7', 'p9')\n",
            "('p1', 'p10', 'p14', 'p5', 'p6', 'p9')\n",
            "('p1', 'p11', 'p12', 'p13', 'p3', 'p5')\n",
            "('p10', 'p12', 'p13', 'p7')\n",
            "('p1', 'p10', 'p14', 'p3', 'p4', 'p5', 'p6')\n",
            "('p10', 'p14', 'p3', 'p6', 'p7')\n",
            "('p1', 'p10', 'p11', 'p13', 'p6')\n",
            "('p10', 'p12', 'p3', 'p5', 'p7', 'p8')\n",
            "('p11', 'p13', 'p2', 'p7', 'p8', 'p9')\n",
            "('p11', 'p13', 'p4', 'p5', 'p8', 'p9')\n",
            "('p1', 'p11', 'p12', 'p5', 'p7', 'p8', 'p9')\n",
            "('p10', 'p14', 'p2', 'p4', 'p6', 'p8')\n",
            "('p1', 'p11', 'p12', 'p13', 'p2', 'p3', 'p4')\n",
            "('p1', 'p10', 'p14', 'p2', 'p4', 'p8', 'p9')\n",
            "('p10', 'p3', 'p4', 'p6', 'p7', 'p8', 'p9')\n",
            "('p12', 'p14', 'p4', 'p6', 'p7', 'p8')\n",
            "('p1', 'p11', 'p12', 'p13', 'p3', 'p9')\n",
            "('p10', 'p11', 'p2', 'p5', 'p6', 'p7')\n",
            "('p10', 'p11', 'p12', 'p6', 'p9')\n",
            "('p11', 'p13', 'p14', 'p4', 'p9')\n",
            "('p1', 'p11', 'p3', 'p4', 'p6', 'p7', 'p8', 'p9')\n",
            "('p1', 'p11', 'p13', 'p3', 'p6', 'p7', 'p9')\n",
            "('p10', 'p14', 'p2', 'p3', 'p8', 'p9')\n",
            "('p10', 'p11', 'p3', 'p7', 'p8')\n",
            "('p10', 'p11', 'p12', 'p7')\n",
            "('p1', 'p12', 'p14', 'p2', 'p4', 'p5', 'p8', 'p9')\n",
            "\n",
            "Total Sets:  48 \n",
            "\n"
          ]
        }
      ]
    }
  ]
}